{
 "cells": [
  {
   "cell_type": "code",
   "execution_count": 6,
   "id": "67d54cab",
   "metadata": {},
   "outputs": [
    {
     "name": "stdout",
     "output_type": "stream",
     "text": [
      "Enter a nmber: 78\n",
      "enter another number9\n",
      "702\n"
     ]
    }
   ],
   "source": [
    "x = int(input(\"Enter a nmber: \"))\n",
    "y = int(input(\"enter another number\"))\n",
    "z = x*y\n",
    "print(z)"
   ]
  }
 ],
 "metadata": {
  "kernelspec": {
   "display_name": "Python 3 (ipykernel)",
   "language": "python",
   "name": "python3"
  },
  "language_info": {
   "codemirror_mode": {
    "name": "ipython",
    "version": 3
   },
   "file_extension": ".py",
   "mimetype": "text/x-python",
   "name": "python",
   "nbconvert_exporter": "python",
   "pygments_lexer": "ipython3",
   "version": "3.9.1"
  }
 },
 "nbformat": 4,
 "nbformat_minor": 5
}
